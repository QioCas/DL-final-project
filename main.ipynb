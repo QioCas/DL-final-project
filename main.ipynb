{
  "cells": [
    {
      "cell_type": "markdown",
      "source": [
        "# Load MNIST data"
      ],
      "metadata": {
        "id": "IywoTkRJk7Pa"
      }
    },
    {
      "cell_type": "code",
      "source": [
        "import torchvision\n",
        "import torch\n",
        "import torch.nn as nn\n",
        "import torchvision.transforms as transforms\n",
        "\n",
        "transform = transforms.ToTensor()\n",
        "\n",
        "# MNIST - Train data\n",
        "trainset = torchvision.datasets.MNIST(root='./data', train=True, transform=transform, download=True)\n",
        "trainloader = torch.utils.data.DataLoader(trainset, batch_size=32, shuffle=True, num_workers=2)\n",
        "\n",
        "# MNIST - Test data\n",
        "testset = torchvision.datasets.MNIST(root='./data', train=False, transform=transform, download=True)\n",
        "testloader = torch.utils.data.DataLoader(testset, batch_size=32, shuffle=False, num_workers=2)\n",
        "\n",
        "# Classes\n",
        "classes = ('0', '1', '2', '3', '4', '5', '6', '7', '8', '9')"
      ],
      "metadata": {
        "id": "QQpLf8FGlCZl",
        "outputId": "5e8b938d-3cd1-411a-c883-4642339b2388",
        "colab": {
          "base_uri": "https://localhost:8080/"
        }
      },
      "execution_count": 2,
      "outputs": [
        {
          "output_type": "stream",
          "name": "stderr",
          "text": [
            "100%|██████████| 9.91M/9.91M [00:00<00:00, 14.6MB/s]\n",
            "100%|██████████| 28.9k/28.9k [00:00<00:00, 485kB/s]\n",
            "100%|██████████| 1.65M/1.65M [00:00<00:00, 4.44MB/s]\n",
            "100%|██████████| 4.54k/4.54k [00:00<00:00, 6.09MB/s]\n"
          ]
        }
      ]
    },
    {
      "cell_type": "code",
      "source": [
        "class Lenet5(nn.Module):\n",
        "  def __init__(self):\n",
        "    super(Lenet5, self).__init__()\n",
        "    # Create the first Conv2d layer with input channels = 1, output channels\n",
        "    # = 6,\n",
        "    # kernel size = 5, stride = 1, and padding = 2 to maintain the input size.\n",
        "    self.conv1 = nn.Conv2d(1, 6, kernel_size=5, stride=1, padding=2)\n",
        "    self.relu1 = nn.ReLU() # Add ReLU activation function after the first convolution.\n",
        "    self.pool1 = nn.AvgPool2d(kernel_size=2, stride=2) # Apply AvgPool to\n",
        "    # reduce spatial dimensions by half\n",
        "\n",
        "    self.conv2 = nn.Conv2d(6, 16, kernel_size=5, stride=1)\n",
        "    self.relu2 = nn.ReLU()\n",
        "    self.pool2 = nn.AvgPool2d(kernel_size=2, stride=2)\n",
        "\n",
        "    self.fc1 = nn.Linear(16 * 5 * 5, 120)\n",
        "    self.relu3 = nn.ReLU()\n",
        "    self.fc2 = nn.Linear(120, 84)\n",
        "    self.relu4 = nn.ReLU()\n",
        "    self.fc3 = nn.Linear(84, 10)\n",
        "\n",
        "  def forward(self, x):\n",
        "    # Pass the input through the first Conv2d layer, ReLU, and AvgPool.\n",
        "    x = self.conv1(x) # Apply the first convolution.\n",
        "    x = self.relu1(x) # Apply ReLU activation.\n",
        "    x = self.pool1(x) # Apply AvgPool to reduce dimensions.\n",
        "\n",
        "    # x = self.conv2(x)\n",
        "    # x = self.relu2(x)\n",
        "    # x = self.pool2(x)\n",
        "\n",
        "    # x = x.view(-1, 16 * 5 * 5)\n",
        "    # x = self.fc1(x)\n",
        "    # x = self.relu3(x)\n",
        "    # x = self.fc2(x)\n",
        "    # x = self.relu4(x)\n",
        "    # x = self.fc3(x)\n",
        "    # return x\n"
      ],
      "metadata": {
        "id": "Ni0jE2Bvpd98"
      },
      "execution_count": 5,
      "outputs": []
    },
    {
      "cell_type": "code",
      "source": [
        "trunk = Lenet5()\n",
        "\n",
        "def train_and_evaluate(model, train_loader, test_loader, criterion, optimizer, num_epochs=2):\n",
        "    for epoch in range(num_epochs):\n",
        "        model.train()\n",
        "        for i, data in enumerate(train_loader):\n",
        "            inputs, labels = data\n",
        "            optimizer.zero_grad()\n",
        "            outputs = model(inputs)\n",
        "            loss = criterion(outputs, labels)\n",
        "            loss.backward()\n",
        "            optimizer.step()\n",
        "            if i % 2000 == 1999:\n",
        "                print(f\"Epoch {epoch+1}, batch {i+1}, loss: {loss.item()}\")\n",
        "        model.eval()\n",
        "        correct = 0\n",
        "        total = 0\n",
        "        with torch.no_grad():\n",
        "            for data in test_loader:\n",
        "                images, labels = data\n",
        "                outputs = model(images)\n",
        "                _, predicted = torch.max(outputs.data, 1)\n",
        "                total += labels.size(0)\n",
        "                correct += (predicted == labels).sum().item()\n",
        "        accuracy = 100 * correct / total\n",
        "        print(f\"Epoch {epoch+1}, accuracy: {accuracy:.2f}%\")\n",
        "\n",
        "sample_input = torch.randn(1, 1, 32, 32)\n",
        "sample_output = trunk(sample_input)\n",
        "print(sample_output)  # Kiểm tra đầu ra có bị `None` không\n",
        "\n",
        "# criteria = nn.CrossEntropyLoss()\n",
        "# optimizer = torch.optim.SGD(trunk.parameters(), lr=0.01)\n",
        "\n",
        "# Pass parameters to run\n",
        "# train_and_evaluate(trunk, trainloader, testloader, criteria, optimizer, num_epochs=30)\n",
        "print(f\"Input shape: {inputs.shape}\")\n"
      ],
      "metadata": {
        "id": "KEQM7-G7p4mx",
        "outputId": "0555dfe5-fec0-41a1-9da4-103a827813e4",
        "colab": {
          "base_uri": "https://localhost:8080/"
        }
      },
      "execution_count": 8,
      "outputs": [
        {
          "output_type": "stream",
          "name": "stdout",
          "text": [
            "None\n"
          ]
        }
      ]
    }
  ],
  "metadata": {
    "language_info": {
      "name": "python"
    },
    "colab": {
      "provenance": []
    },
    "kernelspec": {
      "name": "python3",
      "display_name": "Python 3"
    }
  },
  "nbformat": 4,
  "nbformat_minor": 0
}